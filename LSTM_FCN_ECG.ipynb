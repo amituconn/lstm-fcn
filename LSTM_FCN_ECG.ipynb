{
  "nbformat": 4,
  "nbformat_minor": 0,
  "metadata": {
    "colab": {
      "name": "LSTM-FCN.ipynb",
      "provenance": [],
      "collapsed_sections": []
    },
    "kernelspec": {
      "name": "python3",
      "display_name": "Python 3"
    },
    "accelerator": "GPU"
  },
  "cells": [
    {
      "cell_type": "code",
      "metadata": {
        "id": "9Oqm7PrbxkL_",
        "colab_type": "code",
        "outputId": "54122a1a-f0fb-49d3-ace3-9a88378a1820",
        "colab": {
          "base_uri": "https://localhost:8080/",
          "height": 124
        }
      },
      "source": [
        "from google.colab import drive\n",
        "drive.mount('/content/gdrive')"
      ],
      "execution_count": 0,
      "outputs": [
        {
          "output_type": "stream",
          "text": [
            "Go to this URL in a browser: https://accounts.google.com/o/oauth2/auth?client_id=947318989803-6bn6qk8qdgf4n4g3pfee6491hc0brc4i.apps.googleusercontent.com&redirect_uri=urn%3aietf%3awg%3aoauth%3a2.0%3aoob&response_type=code&scope=email%20https%3a%2f%2fwww.googleapis.com%2fauth%2fdocs.test%20https%3a%2f%2fwww.googleapis.com%2fauth%2fdrive%20https%3a%2f%2fwww.googleapis.com%2fauth%2fdrive.photos.readonly%20https%3a%2f%2fwww.googleapis.com%2fauth%2fpeopleapi.readonly\n",
            "\n",
            "Enter your authorization code:\n",
            "··········\n",
            "Mounted at /content/gdrive\n"
          ],
          "name": "stdout"
        }
      ]
    },
    {
      "cell_type": "code",
      "metadata": {
        "id": "WDk5SKL1FNaM",
        "colab_type": "code",
        "outputId": "68540282-aae0-4ad2-a7d5-41565183554c",
        "colab": {
          "base_uri": "https://localhost:8080/",
          "height": 732
        }
      },
      "source": [
        "!wget https://www.dropbox.com/s/2av4nr10v4m2vqi/TwoLeadECG_TRAIN?dl=0\n",
        "!wget https://www.dropbox.com/s/6f9s6x6gp63l88p/TwoLeadECG_TEST?dl=0"
      ],
      "execution_count": 0,
      "outputs": [
        {
          "output_type": "stream",
          "text": [
            "--2020-01-31 08:09:49--  https://www.dropbox.com/s/2av4nr10v4m2vqi/TwoLeadECG_TRAIN?dl=0\n",
            "Resolving www.dropbox.com (www.dropbox.com)... 162.125.8.1, 2620:100:601b:1::a27d:801\n",
            "Connecting to www.dropbox.com (www.dropbox.com)|162.125.8.1|:443... connected.\n",
            "HTTP request sent, awaiting response... 301 Moved Permanently\n",
            "Location: /s/raw/2av4nr10v4m2vqi/TwoLeadECG_TRAIN [following]\n",
            "--2020-01-31 08:09:49--  https://www.dropbox.com/s/raw/2av4nr10v4m2vqi/TwoLeadECG_TRAIN\n",
            "Reusing existing connection to www.dropbox.com:443.\n",
            "HTTP request sent, awaiting response... 302 Found\n",
            "Location: https://ucefda65bf711570b4be7588634e.dl.dropboxusercontent.com/cd/0/inline/AxMwJH-IxnYGwWvsJQQcM25heTShX4BnxJKQhllLAaAf7JwGi7evbUWKEoD51jqNoorkj5MAUc8RWrq05hm-aceI22mL--H44WTQ4uCYHR23iya1P1tJ12FnUjeXQGm0TdY/file# [following]\n",
            "--2020-01-31 08:09:49--  https://ucefda65bf711570b4be7588634e.dl.dropboxusercontent.com/cd/0/inline/AxMwJH-IxnYGwWvsJQQcM25heTShX4BnxJKQhllLAaAf7JwGi7evbUWKEoD51jqNoorkj5MAUc8RWrq05hm-aceI22mL--H44WTQ4uCYHR23iya1P1tJ12FnUjeXQGm0TdY/file\n",
            "Resolving ucefda65bf711570b4be7588634e.dl.dropboxusercontent.com (ucefda65bf711570b4be7588634e.dl.dropboxusercontent.com)... 162.125.8.6, 2620:100:601b:6::a27d:806\n",
            "Connecting to ucefda65bf711570b4be7588634e.dl.dropboxusercontent.com (ucefda65bf711570b4be7588634e.dl.dropboxusercontent.com)|162.125.8.6|:443... connected.\n",
            "HTTP request sent, awaiting response... 200 OK\n",
            "Length: 15515 (15K) [text/plain]\n",
            "Saving to: ‘TwoLeadECG_TRAIN?dl=0’\n",
            "\n",
            "TwoLeadECG_TRAIN?dl 100%[===================>]  15.15K  --.-KB/s    in 0s      \n",
            "\n",
            "2020-01-31 08:09:49 (242 MB/s) - ‘TwoLeadECG_TRAIN?dl=0’ saved [15515/15515]\n",
            "\n",
            "--2020-01-31 08:09:50--  https://www.dropbox.com/s/6f9s6x6gp63l88p/TwoLeadECG_TEST?dl=0\n",
            "Resolving www.dropbox.com (www.dropbox.com)... 162.125.8.1, 2620:100:601b:1::a27d:801\n",
            "Connecting to www.dropbox.com (www.dropbox.com)|162.125.8.1|:443... connected.\n",
            "HTTP request sent, awaiting response... 301 Moved Permanently\n",
            "Location: /s/raw/6f9s6x6gp63l88p/TwoLeadECG_TEST [following]\n",
            "--2020-01-31 08:09:51--  https://www.dropbox.com/s/raw/6f9s6x6gp63l88p/TwoLeadECG_TEST\n",
            "Reusing existing connection to www.dropbox.com:443.\n",
            "HTTP request sent, awaiting response... 302 Found\n",
            "Location: https://ucf3c82d215635af6d6e4d635ebc.dl.dropboxusercontent.com/cd/0/inline/AxM6xVsVFNJCog6s82nOC0LTja73TOfFqtyXG2G7FSwN0h55eX26UWm13X113in5Q0hhs0DPzlnqhEPeksHp9HV8CQcRR3fhl8UGyKPFDNCxj-X4oXP4kYzJZhm-3LeItNc/file# [following]\n",
            "--2020-01-31 08:09:51--  https://ucf3c82d215635af6d6e4d635ebc.dl.dropboxusercontent.com/cd/0/inline/AxM6xVsVFNJCog6s82nOC0LTja73TOfFqtyXG2G7FSwN0h55eX26UWm13X113in5Q0hhs0DPzlnqhEPeksHp9HV8CQcRR3fhl8UGyKPFDNCxj-X4oXP4kYzJZhm-3LeItNc/file\n",
            "Resolving ucf3c82d215635af6d6e4d635ebc.dl.dropboxusercontent.com (ucf3c82d215635af6d6e4d635ebc.dl.dropboxusercontent.com)... 162.125.8.6, 2620:100:601b:6::a27d:806\n",
            "Connecting to ucf3c82d215635af6d6e4d635ebc.dl.dropboxusercontent.com (ucf3c82d215635af6d6e4d635ebc.dl.dropboxusercontent.com)|162.125.8.6|:443... connected.\n",
            "HTTP request sent, awaiting response... 200 OK\n",
            "Length: 770430 (752K) [text/plain]\n",
            "Saving to: ‘TwoLeadECG_TEST?dl=0’\n",
            "\n",
            "TwoLeadECG_TEST?dl= 100%[===================>] 752.37K  --.-KB/s    in 0.09s   \n",
            "\n",
            "2020-01-31 08:09:51 (8.63 MB/s) - ‘TwoLeadECG_TEST?dl=0’ saved [770430/770430]\n",
            "\n"
          ],
          "name": "stdout"
        }
      ]
    },
    {
      "cell_type": "code",
      "metadata": {
        "id": "l6WlfwIyw6Wk",
        "colab_type": "code",
        "outputId": "fdf89f53-6006-4c4f-c030-b072e1e10f1f",
        "colab": {
          "base_uri": "https://localhost:8080/",
          "height": 228
        }
      },
      "source": [
        "!pip install dtw\n",
        "import warnings\n",
        "warnings.filterwarnings(\"ignore\")\n",
        "\n",
        "import dtw\n",
        "import pandas as pd\n",
        "import numpy as np\n",
        "import random\n",
        "from matplotlib import pyplot as plt\n",
        "from sklearn.neighbors import KNeighborsClassifier"
      ],
      "execution_count": 0,
      "outputs": [
        {
          "output_type": "stream",
          "text": [
            "Collecting dtw\n",
            "  Downloading https://files.pythonhosted.org/packages/66/a0/21d6ec377b8d5832218700e236205f8cdea38b3b2cdd0a732be170e2809b/dtw-1.4.0.tar.gz\n",
            "Requirement already satisfied: numpy in /usr/local/lib/python3.6/dist-packages (from dtw) (1.17.5)\n",
            "Requirement already satisfied: scipy in /usr/local/lib/python3.6/dist-packages (from dtw) (1.4.1)\n",
            "Building wheels for collected packages: dtw\n",
            "  Building wheel for dtw (setup.py) ... \u001b[?25l\u001b[?25hdone\n",
            "  Created wheel for dtw: filename=dtw-1.4.0-cp36-none-any.whl size=5316 sha256=6658dba1920611789e760af2045d00c3632c7d51d85d8ba065cc9f429e411816\n",
            "  Stored in directory: /root/.cache/pip/wheels/8c/8b/7a/947d67b53cd54948890a173527b0470ef56998812fc9d0a803\n",
            "Successfully built dtw\n",
            "Installing collected packages: dtw\n",
            "Successfully installed dtw-1.4.0\n"
          ],
          "name": "stdout"
        }
      ]
    },
    {
      "cell_type": "code",
      "metadata": {
        "id": "qm6spCM5yGYY",
        "colab_type": "code",
        "colab": {}
      },
      "source": [
        "def get_data(data_name):\n",
        "    '''Importing data\n",
        "\n",
        "    Parameter:\n",
        "        data _name: \n",
        "\n",
        "    Return：\n",
        "        train_series， train_series_labels， test_series， test_series_labels\n",
        "    '''\n",
        "    train = pd.read_csv(data_name + '_TRAIN?dl=0', header=None) \n",
        "    train = train.rename(columns={0:'Type'})   \n",
        "    train = train.values[:, :]\n",
        "    train_series = train[:, 1:]\n",
        "    train_series_labels = train[:, 0]\n",
        "\n",
        "    test = pd.read_csv(data_name + '_TEST?dl=0', header=None)\n",
        "    test = test.rename(columns={0:'Type'}) \n",
        "    test = test.values[:, :]\n",
        "    test_series = train[:, 1:]\n",
        "    test_series_labels = train[:, 0]  \n",
        "    \n",
        "    return train_series, train_series_labels, test_series, test_series_labels"
      ],
      "execution_count": 0,
      "outputs": []
    },
    {
      "cell_type": "code",
      "metadata": {
        "id": "ZjeIBneSjo10",
        "colab_type": "code",
        "colab": {}
      },
      "source": [
        "train_series, train_series_labels, test_series, test_series_labels = get_data('TwoLeadECG')"
      ],
      "execution_count": 0,
      "outputs": []
    },
    {
      "cell_type": "code",
      "metadata": {
        "id": "DkzM5UVVYzXR",
        "colab_type": "code",
        "colab": {}
      },
      "source": [
        "# One hot encoding\n",
        "\n",
        "y_train1 = []\n",
        "y_train2 = []\n",
        "y_test1 = []\n",
        "y_test2 = []\n",
        "\n",
        "for train in train_series_labels:\n",
        "    if train == 1:\n",
        "        y_train1.append(1)\n",
        "        y_train2.append(0)\n",
        "    \n",
        "    else:\n",
        "        y_train1.append(0)\n",
        "        y_train2.append(1)\n",
        "\n",
        "\n",
        "for test in test_series_labels:\n",
        "    if test == 1:\n",
        "        y_test1.append(1)\n",
        "        y_test2.append(0)\n",
        "    \n",
        "    else:\n",
        "        y_test1.append(0)\n",
        "        y_test2.append(1)\n",
        "\n",
        "y_test = np.array([y_test1, y_test2]).transpose()\n",
        "y_train = np.array([y_train1, y_train2]).transpose()"
      ],
      "execution_count": 0,
      "outputs": []
    },
    {
      "cell_type": "code",
      "metadata": {
        "id": "b5I-8zmOQ8td",
        "colab_type": "code",
        "outputId": "6cd9a53e-2290-4d63-a5d1-2fdeb9865026",
        "colab": {
          "base_uri": "https://localhost:8080/",
          "height": 173
        }
      },
      "source": [
        "print(train_series[:20])\n",
        "print('-----------------')\n",
        "print(train_series.shape)"
      ],
      "execution_count": 0,
      "outputs": [
        {
          "output_type": "stream",
          "text": [
            "[[ 0.68835    0.61723    0.61723   ...  0.1431     0.16681    0.1431   ]\n",
            " [-0.11165   -0.036505  -0.074079  ...  0.063693   0.0010692 -0.011456 ]\n",
            " [-0.49172   -0.45549   -0.45549   ...  0.39585    0.41396    0.43208  ]\n",
            " ...\n",
            " [ 0.37854    0.37854    0.40218   ... -0.1652    -0.2834    -0.30704  ]\n",
            " [-0.13885   -0.11908   -0.059783  ...  0.11812    0.078586   0.078586 ]\n",
            " [ 0.12505    0.11151    0.11151   ...  0.35534    0.19279    0.1386   ]]\n",
            "-----------------\n",
            "(23, 82)\n"
          ],
          "name": "stdout"
        }
      ]
    },
    {
      "cell_type": "code",
      "metadata": {
        "id": "YBFHTeHoRNBp",
        "colab_type": "code",
        "outputId": "a979cefe-231a-499f-e018-d04fd3ee672b",
        "colab": {
          "base_uri": "https://localhost:8080/",
          "height": 173
        }
      },
      "source": [
        "print(test_series[:20])\n",
        "print('-----------------')\n",
        "print(test_series.shape)"
      ],
      "execution_count": 0,
      "outputs": [
        {
          "output_type": "stream",
          "text": [
            "[[ 0.68835    0.61723    0.61723   ...  0.1431     0.16681    0.1431   ]\n",
            " [-0.11165   -0.036505  -0.074079  ...  0.063693   0.0010692 -0.011456 ]\n",
            " [-0.49172   -0.45549   -0.45549   ...  0.39585    0.41396    0.43208  ]\n",
            " ...\n",
            " [ 0.37854    0.37854    0.40218   ... -0.1652    -0.2834    -0.30704  ]\n",
            " [-0.13885   -0.11908   -0.059783  ...  0.11812    0.078586   0.078586 ]\n",
            " [ 0.12505    0.11151    0.11151   ...  0.35534    0.19279    0.1386   ]]\n",
            "-----------------\n",
            "(23, 82)\n"
          ],
          "name": "stdout"
        }
      ]
    },
    {
      "cell_type": "code",
      "metadata": {
        "id": "RrikodouUqFZ",
        "colab_type": "code",
        "outputId": "9ed1f3c7-6bc8-4f77-947c-7b1732db32ef",
        "colab": {
          "base_uri": "https://localhost:8080/",
          "height": 273
        }
      },
      "source": [
        "# Plot the time-series of the 2 categories\n",
        "\n",
        "ecg_1 = []\n",
        "ecg_2 = []\n",
        "\n",
        "for type_ecg, ecg in zip(test_series_labels, train_series):\n",
        "    if type_ecg==1:\n",
        "        ecg_1.append(ecg)\n",
        "    else:\n",
        "        ecg_2.append(ecg)\n",
        "\n",
        "ax1 = plt.subplot(211)\n",
        "plt.title('Two types of ECG', size=20, color='r')\n",
        "\n",
        "for graph in ecg_1:\n",
        "    plt.plot(graph)\n",
        "\n",
        "plt.setp(ax1.get_xticklabels(), fontsize=12)\n",
        "\n",
        "ax2 = plt.subplot(212)\n",
        "\n",
        "for graph in ecg_2:\n",
        "    plt.plot(graph)\n",
        "\n",
        "# make these tick labels invisible\n",
        "plt.setp(ax2.get_xticklabels(), visible=False)\n",
        "\n",
        "plt.show()\n"
      ],
      "execution_count": 0,
      "outputs": [
        {
          "output_type": "display_data",
          "data": {
            "image/png": "[encoded data removed]",
            "text/plain": [
              "<Figure size 432x288 with 2 Axes>"
            ]
          },
          "metadata": {
            "tags": []
          }
        }
      ]
    },
    {
      "cell_type": "markdown",
      "metadata": {
        "id": "nooJux1q0QAR",
        "colab_type": "text"
      },
      "source": [
        "# Baseline with KNN"
      ]
    },
    {
      "cell_type": "code",
      "metadata": {
        "id": "jCSdp5kZ0Ohe",
        "colab_type": "code",
        "colab": {}
      },
      "source": [
        "# Creating our K-nearest neighbor metric for time-series\n",
        "\n",
        "class K_nearest_neighbor():\n",
        "    \n",
        "    K = 1\n",
        "    train_series = [] \n",
        "    train_series_labels = [] \n",
        "    dist_lambda = lambda x, y: np.abs(x - y) #L1 norm as the element comparison distance\n",
        "    \n",
        "    def __init__(self, train_series, train_series_labels, K=1,  dist_lambda=lambda x, y: np.abs(x - y)):\n",
        "        \n",
        "        self.K = K\n",
        "        self.train_series = train_series\n",
        "        self.train_series_labels = train_series_labels\n",
        "        self.dist_lambda = dist_lambda\n",
        "    \n",
        "    \n",
        "    def predict(self, test_series):\n",
        "        \n",
        "        predict_labels = [] \n",
        "        \n",
        "        for test_series_signal in test_series:\n",
        "            t_dis = []\n",
        "            \n",
        "            for train_series_signal in train_series:\n",
        "                #DTW calculate sequence similarity\n",
        "                dis, cost_matrix, acc_cost_matrix, path = dtw.accelerated_dtw(test_series_signal.reshape(-1,1),\n",
        "                                                                              train_series_signal.reshape(-1,1),\n",
        "                                                                              dist=self.dist_lambda)\n",
        "                t_dis.append(dis)\n",
        "\n",
        "            nearest_series_labels = np.array(train_series_labels[np.argsort(t_dis)[:self.K]]).astype(int)\n",
        "    \n",
        "            preditc_labels_signal = np.argmax(np.bincount(nearest_series_labels))\n",
        "            predict_labels.append(preditc_labels_signal)\n",
        "            \n",
        "        return predict_labels"
      ],
      "execution_count": 0,
      "outputs": []
    },
    {
      "cell_type": "code",
      "metadata": {
        "id": "42sLEOq42Hs6",
        "colab_type": "code",
        "outputId": "cfb0bbce-30ac-4246-d2cd-1cbed084863d",
        "colab": {
          "base_uri": "https://localhost:8080/",
          "height": 469
        }
      },
      "source": [
        "accuracies = [] \n",
        "train_series, train_series_labels, test_series, test_series_labels = get_data('TwoLeadECG') \n",
        "\n",
        "for k in range(2, 11):\n",
        "    my_knn = K_nearest_neighbor(train_series=train_series, \n",
        "                                   train_series_labels=train_series_labels, \n",
        "                                   K=k)\n",
        "\n",
        "    predict_labels = my_knn.predict(test_series)\n",
        "        \n",
        "    accuracy = np.mean(np.array(predict_labels) == test_series_labels)\n",
        "    accuracies.append(accuracy)\n",
        "    print('TwoLeadECG', k-1, accuracy)\n",
        "\n",
        "print(\"-----------------------------------------------------\")\n",
        "\n",
        "plt.plot([k for k in range(1, 10)], accuracies)\n",
        "plt.title('Accuracy of the model depending on k')\n",
        "plt.ylabel('accuracy')\n",
        "plt.xlabel('k')\n",
        "plt.show()"
      ],
      "execution_count": 0,
      "outputs": [
        {
          "output_type": "stream",
          "text": [
            "TwoLeadECG 1 0.9130434782608695\n",
            "TwoLeadECG 2 0.9565217391304348\n",
            "TwoLeadECG 3 0.9130434782608695\n",
            "TwoLeadECG 4 0.9565217391304348\n",
            "TwoLeadECG 5 0.782608695652174\n",
            "TwoLeadECG 6 0.8260869565217391\n",
            "TwoLeadECG 7 0.782608695652174\n",
            "TwoLeadECG 8 0.782608695652174\n",
            "TwoLeadECG 9 0.6956521739130435\n",
            "-----------------------------------------------------\n"
          ],
          "name": "stdout"
        },
        {
          "output_type": "display_data",
          "data": {
            "image/png": "[encoded data removed]",
            "text/plain": [
              "<Figure size 432x288 with 1 Axes>"
            ]
          },
          "metadata": {
            "tags": []
          }
        }
      ]
    },
    {
      "cell_type": "markdown",
      "metadata": {
        "id": "l4rt7Pw1o1t_",
        "colab_type": "text"
      },
      "source": [
        "# LSTM-FCN model"
      ]
    },
    {
      "cell_type": "code",
      "metadata": {
        "id": "s5og00rdo1ON",
        "colab_type": "code",
        "outputId": "b0bd4d5b-bdb7-4be1-d743-bb8e7dbd6f9f",
        "colab": {
          "base_uri": "https://localhost:8080/",
          "height": 81
        }
      },
      "source": [
        "from keras import backend as K\n",
        "from keras.layers import Conv1D, BatchNormalization, GlobalAveragePooling1D, Permute, Dropout, Flatten\n",
        "from keras.layers import Input, PReLU, Dense, LSTM, CuDNNLSTM, concatenate, Activation, GRU, SimpleRNN\n",
        "from keras.models import Model, load_model\n",
        "from keras.callbacks import ModelCheckpoint\n",
        "from keras.optimizers import Adam\n",
        "from keras.utils import to_categorical"
      ],
      "execution_count": 0,
      "outputs": [
        {
          "output_type": "stream",
          "text": [
            "Using TensorFlow backend.\n"
          ],
          "name": "stderr"
        },
        {
          "output_type": "display_data",
          "data": {
            "text/html": [
              "<p style=\"color: red;\">\n",
              "The default version of TensorFlow in Colab will soon switch to TensorFlow 2.x.<br>\n",
              "We recommend you <a href=\"https://www.tensorflow.org/guide/migrate\" target=\"_blank\">upgrade</a> now \n",
              "or ensure your notebook will continue to use TensorFlow 1.x via the <code>%tensorflow_version 1.x</code> magic:\n",
              "<a href=\"https://colab.research.google.com/notebooks/tensorflow_version.ipynb\" target=\"_blank\">more info</a>.</p>\n"
            ],
            "text/plain": [
              "<IPython.core.display.HTML object>"
            ]
          },
          "metadata": {
            "tags": []
          }
        }
      ]
    },
    {
      "cell_type": "code",
      "metadata": {
        "id": "-TUDm0sySXTh",
        "colab_type": "code",
        "colab": {}
      },
      "source": [
        "def generate_lstmfcn(MAX_SEQUENCE_LENGTH=82, NB_CLASS=2, NUM_CELLS=8):\n",
        "\n",
        "    ip = Input(shape=(1, MAX_SEQUENCE_LENGTH)) # tensor\n",
        "\n",
        "    x = LSTM(NUM_CELLS)(ip)\n",
        "    x = Dropout(0.8)(x)\n",
        "\n",
        "    y = Permute((2, 1))(ip) # permutes the first and second dimension of the input (connecting RNNs and convnets together)\n",
        "    y = Conv1D(128, 8, padding='same', kernel_initializer='he_uniform')(y) # for temporal convolution\n",
        "    y = BatchNormalization()(y)\n",
        "    y = Activation('relu')(y)\n",
        "\n",
        "    y = Conv1D(256, 5, padding='same', kernel_initializer='he_uniform')(y)\n",
        "    y = BatchNormalization()(y)\n",
        "    y = Activation('relu')(y)\n",
        "\n",
        "    y = Conv1D(128, 3, padding='same', kernel_initializer='he_uniform')(y)\n",
        "    y = BatchNormalization()(y)\n",
        "    y = Activation('relu')(y)\n",
        "\n",
        "    y = GlobalAveragePooling1D()(y)\n",
        "    x = concatenate([x, y])\n",
        "\n",
        "    out = Dense(NB_CLASS, activation='softmax')(x)\n",
        "\n",
        "    model = Model(ip, out)\n",
        "    model.summary()\n",
        "\n",
        "    return model"
      ],
      "execution_count": 0,
      "outputs": []
    },
    {
      "cell_type": "code",
      "metadata": {
        "id": "zAH4KP6B8Uo7",
        "colab_type": "code",
        "outputId": "804036f2-3628-40e6-d4a0-41b1e0cd52b7",
        "colab": {
          "base_uri": "https://localhost:8080/",
          "height": 957
        }
      },
      "source": [
        "model = generate_lstmfcn()"
      ],
      "execution_count": 0,
      "outputs": [
        {
          "output_type": "stream",
          "text": [
            "WARNING:tensorflow:From /usr/local/lib/python3.6/dist-packages/keras/backend/tensorflow_backend.py:66: The name tf.get_default_graph is deprecated. Please use tf.compat.v1.get_default_graph instead.\n",
            "\n",
            "WARNING:tensorflow:From /usr/local/lib/python3.6/dist-packages/keras/backend/tensorflow_backend.py:541: The name tf.placeholder is deprecated. Please use tf.compat.v1.placeholder instead.\n",
            "\n",
            "WARNING:tensorflow:From /usr/local/lib/python3.6/dist-packages/keras/backend/tensorflow_backend.py:4432: The name tf.random_uniform is deprecated. Please use tf.random.uniform instead.\n",
            "\n",
            "WARNING:tensorflow:From /usr/local/lib/python3.6/dist-packages/keras/backend/tensorflow_backend.py:148: The name tf.placeholder_with_default is deprecated. Please use tf.compat.v1.placeholder_with_default instead.\n",
            "\n",
            "WARNING:tensorflow:From /usr/local/lib/python3.6/dist-packages/keras/backend/tensorflow_backend.py:3733: calling dropout (from tensorflow.python.ops.nn_ops) with keep_prob is deprecated and will be removed in a future version.\n",
            "Instructions for updating:\n",
            "Please use `rate` instead of `keep_prob`. Rate should be set to `rate = 1 - keep_prob`.\n",
            "WARNING:tensorflow:Large dropout rate: 0.8 (>0.5). In TensorFlow 2.x, dropout() uses dropout rate instead of keep_prob. Please ensure that this is intended.\n",
            "Model: \"model_1\"\n",
            "__________________________________________________________________________________________________\n",
            "Layer (type)                    Output Shape         Param #     Connected to                     \n",
            "==================================================================================================\n",
            "input_1 (InputLayer)            (None, 1, 82)        0                                            \n",
            "__________________________________________________________________________________________________\n",
            "permute_1 (Permute)             (None, 82, 1)        0           input_1[0][0]                    \n",
            "__________________________________________________________________________________________________\n",
            "conv1d_1 (Conv1D)               (None, 82, 128)      1152        permute_1[0][0]                  \n",
            "__________________________________________________________________________________________________\n",
            "batch_normalization_1 (BatchNor (None, 82, 128)      512         conv1d_1[0][0]                   \n",
            "__________________________________________________________________________________________________\n",
            "activation_1 (Activation)       (None, 82, 128)      0           batch_normalization_1[0][0]      \n",
            "__________________________________________________________________________________________________\n",
            "conv1d_2 (Conv1D)               (None, 82, 256)      164096      activation_1[0][0]               \n",
            "__________________________________________________________________________________________________\n",
            "batch_normalization_2 (BatchNor (None, 82, 256)      1024        conv1d_2[0][0]                   \n",
            "__________________________________________________________________________________________________\n",
            "activation_2 (Activation)       (None, 82, 256)      0           batch_normalization_2[0][0]      \n",
            "__________________________________________________________________________________________________\n",
            "conv1d_3 (Conv1D)               (None, 82, 128)      98432       activation_2[0][0]               \n",
            "__________________________________________________________________________________________________\n",
            "batch_normalization_3 (BatchNor (None, 82, 128)      512         conv1d_3[0][0]                   \n",
            "__________________________________________________________________________________________________\n",
            "lstm_1 (LSTM)                   (None, 8)            2912        input_1[0][0]                    \n",
            "__________________________________________________________________________________________________\n",
            "activation_3 (Activation)       (None, 82, 128)      0           batch_normalization_3[0][0]      \n",
            "__________________________________________________________________________________________________\n",
            "dropout_1 (Dropout)             (None, 8)            0           lstm_1[0][0]                     \n",
            "__________________________________________________________________________________________________\n",
            "global_average_pooling1d_1 (Glo (None, 128)          0           activation_3[0][0]               \n",
            "__________________________________________________________________________________________________\n",
            "concatenate_1 (Concatenate)     (None, 136)          0           dropout_1[0][0]                  \n",
            "                                                                 global_average_pooling1d_1[0][0] \n",
            "__________________________________________________________________________________________________\n",
            "dense_1 (Dense)                 (None, 2)            274         concatenate_1[0][0]              \n",
            "==================================================================================================\n",
            "Total params: 268,914\n",
            "Trainable params: 267,890\n",
            "Non-trainable params: 1,024\n",
            "__________________________________________________________________________________________________\n"
          ],
          "name": "stdout"
        }
      ]
    },
    {
      "cell_type": "code",
      "metadata": {
        "id": "gva0WBO6X2Fk",
        "colab_type": "code",
        "outputId": "6c9a8f3c-8789-4ff9-8276-aab3083e9a18",
        "colab": {
          "base_uri": "https://localhost:8080/",
          "height": 1000
        }
      },
      "source": [
        "# Create the tensors\n",
        "X_train = np.reshape(train_series, (train_series.shape[0], 1, train_series.shape[1]))\n",
        "X_test = np.reshape(test_series, (test_series.shape[0], 1, test_series.shape[1]))\n",
        "\n",
        "adam = Adam(lr=1e-3)\n",
        "chk = ModelCheckpoint('best_model.pkl', monitor='val_acc', save_best_only=True, mode='auto', verbose=1)\n",
        "model.compile(loss='binary_crossentropy', optimizer=adam, metrics=['accuracy'])\n",
        "history = model.fit(X_train, y_train, epochs=50, batch_size=128, callbacks=[chk],\n",
        "          validation_data=(X_test,y_test))"
      ],
      "execution_count": 0,
      "outputs": [
        {
          "output_type": "stream",
          "text": [
            "WARNING:tensorflow:From /usr/local/lib/python3.6/dist-packages/keras/optimizers.py:793: The name tf.train.Optimizer is deprecated. Please use tf.compat.v1.train.Optimizer instead.\n",
            "\n",
            "WARNING:tensorflow:From /usr/local/lib/python3.6/dist-packages/keras/backend/tensorflow_backend.py:3657: The name tf.log is deprecated. Please use tf.math.log instead.\n",
            "\n",
            "WARNING:tensorflow:From /usr/local/lib/python3.6/dist-packages/tensorflow_core/python/ops/nn_impl.py:183: where (from tensorflow.python.ops.array_ops) is deprecated and will be removed in a future version.\n",
            "Instructions for updating:\n",
            "Use tf.where in 2.0, which has the same broadcast rule as np.where\n",
            "WARNING:tensorflow:From /usr/local/lib/python3.6/dist-packages/keras/backend/tensorflow_backend.py:1033: The name tf.assign_add is deprecated. Please use tf.compat.v1.assign_add instead.\n",
            "\n",
            "WARNING:tensorflow:From /usr/local/lib/python3.6/dist-packages/keras/backend/tensorflow_backend.py:1020: The name tf.assign is deprecated. Please use tf.compat.v1.assign instead.\n",
            "\n",
            "WARNING:tensorflow:From /usr/local/lib/python3.6/dist-packages/keras/backend/tensorflow_backend.py:3005: The name tf.Session is deprecated. Please use tf.compat.v1.Session instead.\n",
            "\n",
            "Train on 23 samples, validate on 23 samples\n",
            "Epoch 1/50\n",
            "WARNING:tensorflow:From /usr/local/lib/python3.6/dist-packages/keras/backend/tensorflow_backend.py:190: The name tf.get_default_session is deprecated. Please use tf.compat.v1.get_default_session instead.\n",
            "\n",
            "WARNING:tensorflow:From /usr/local/lib/python3.6/dist-packages/keras/backend/tensorflow_backend.py:197: The name tf.ConfigProto is deprecated. Please use tf.compat.v1.ConfigProto instead.\n",
            "\n",
            "WARNING:tensorflow:From /usr/local/lib/python3.6/dist-packages/keras/backend/tensorflow_backend.py:207: The name tf.global_variables is deprecated. Please use tf.compat.v1.global_variables instead.\n",
            "\n",
            "WARNING:tensorflow:From /usr/local/lib/python3.6/dist-packages/keras/backend/tensorflow_backend.py:216: The name tf.is_variable_initialized is deprecated. Please use tf.compat.v1.is_variable_initialized instead.\n",
            "\n",
            "WARNING:tensorflow:From /usr/local/lib/python3.6/dist-packages/keras/backend/tensorflow_backend.py:223: The name tf.variables_initializer is deprecated. Please use tf.compat.v1.variables_initializer instead.\n",
            "\n",
            "23/23 [==============================] - 16s 699ms/step - loss: 0.9303 - acc: 0.5217 - val_loss: 0.9382 - val_acc: 0.5217\n",
            "\n",
            "Epoch 00001: val_acc improved from -inf to 0.52174, saving model to best_model.pkl\n",
            "Epoch 2/50\n",
            "23/23 [==============================] - 0s 951us/step - loss: 0.7192 - acc: 0.5217 - val_loss: 0.8665 - val_acc: 0.5217\n",
            "\n",
            "Epoch 00002: val_acc did not improve from 0.52174\n",
            "Epoch 3/50\n",
            "23/23 [==============================] - 0s 1ms/step - loss: 0.6205 - acc: 0.6087 - val_loss: 0.8219 - val_acc: 0.5217\n",
            "\n",
            "Epoch 00003: val_acc did not improve from 0.52174\n",
            "Epoch 4/50\n",
            "23/23 [==============================] - 0s 904us/step - loss: 0.5724 - acc: 0.8261 - val_loss: 0.8125 - val_acc: 0.5217\n",
            "\n",
            "Epoch 00004: val_acc did not improve from 0.52174\n",
            "Epoch 5/50\n",
            "23/23 [==============================] - 0s 767us/step - loss: 0.5280 - acc: 0.8696 - val_loss: 0.8150 - val_acc: 0.5217\n",
            "\n",
            "Epoch 00005: val_acc did not improve from 0.52174\n",
            "Epoch 6/50\n",
            "23/23 [==============================] - 0s 741us/step - loss: 0.5044 - acc: 0.8696 - val_loss: 0.7826 - val_acc: 0.5217\n",
            "\n",
            "Epoch 00006: val_acc did not improve from 0.52174\n",
            "Epoch 7/50\n",
            "23/23 [==============================] - 0s 733us/step - loss: 0.4717 - acc: 0.8696 - val_loss: 0.7068 - val_acc: 0.5217\n",
            "\n",
            "Epoch 00007: val_acc did not improve from 0.52174\n",
            "Epoch 8/50\n",
            "23/23 [==============================] - 0s 705us/step - loss: 0.4421 - acc: 0.8696 - val_loss: 0.6682 - val_acc: 0.5217\n",
            "\n",
            "Epoch 00008: val_acc did not improve from 0.52174\n",
            "Epoch 9/50\n",
            "23/23 [==============================] - 0s 689us/step - loss: 0.4036 - acc: 0.8696 - val_loss: 0.6339 - val_acc: 0.5217\n",
            "\n",
            "Epoch 00009: val_acc did not improve from 0.52174\n",
            "Epoch 10/50\n",
            "23/23 [==============================] - 0s 680us/step - loss: 0.3742 - acc: 0.9130 - val_loss: 0.5626 - val_acc: 0.6087\n",
            "\n",
            "Epoch 00010: val_acc improved from 0.52174 to 0.60870, saving model to best_model.pkl\n",
            "Epoch 11/50\n",
            "23/23 [==============================] - 0s 880us/step - loss: 0.3479 - acc: 0.9130 - val_loss: 0.4981 - val_acc: 0.6957\n",
            "\n",
            "Epoch 00011: val_acc improved from 0.60870 to 0.69565, saving model to best_model.pkl\n",
            "Epoch 12/50\n",
            "23/23 [==============================] - 0s 1ms/step - loss: 0.3112 - acc: 1.0000 - val_loss: 0.4390 - val_acc: 0.7826\n",
            "\n",
            "Epoch 00012: val_acc improved from 0.69565 to 0.78261, saving model to best_model.pkl\n",
            "Epoch 13/50\n",
            "23/23 [==============================] - 0s 1ms/step - loss: 0.2758 - acc: 1.0000 - val_loss: 0.3911 - val_acc: 0.8696\n",
            "\n",
            "Epoch 00013: val_acc improved from 0.78261 to 0.86957, saving model to best_model.pkl\n",
            "Epoch 14/50\n",
            "23/23 [==============================] - 0s 653us/step - loss: 0.2566 - acc: 1.0000 - val_loss: 0.3594 - val_acc: 0.9130\n",
            "\n",
            "Epoch 00014: val_acc improved from 0.86957 to 0.91304, saving model to best_model.pkl\n",
            "Epoch 15/50\n",
            "23/23 [==============================] - 0s 877us/step - loss: 0.2350 - acc: 1.0000 - val_loss: 0.3403 - val_acc: 0.9565\n",
            "\n",
            "Epoch 00015: val_acc improved from 0.91304 to 0.95652, saving model to best_model.pkl\n",
            "Epoch 16/50\n",
            "23/23 [==============================] - 0s 800us/step - loss: 0.2084 - acc: 1.0000 - val_loss: 0.3270 - val_acc: 0.9565\n",
            "\n",
            "Epoch 00016: val_acc did not improve from 0.95652\n",
            "Epoch 17/50\n",
            "23/23 [==============================] - 0s 822us/step - loss: 0.1887 - acc: 1.0000 - val_loss: 0.3115 - val_acc: 0.9565\n",
            "\n",
            "Epoch 00017: val_acc did not improve from 0.95652\n",
            "Epoch 18/50\n",
            "23/23 [==============================] - 0s 633us/step - loss: 0.1640 - acc: 1.0000 - val_loss: 0.2938 - val_acc: 1.0000\n",
            "\n",
            "Epoch 00018: val_acc improved from 0.95652 to 1.00000, saving model to best_model.pkl\n",
            "Epoch 19/50\n",
            "23/23 [==============================] - 0s 993us/step - loss: 0.1445 - acc: 1.0000 - val_loss: 0.2773 - val_acc: 1.0000\n",
            "\n",
            "Epoch 00019: val_acc did not improve from 1.00000\n",
            "Epoch 20/50\n",
            "23/23 [==============================] - 0s 734us/step - loss: 0.1266 - acc: 1.0000 - val_loss: 0.2555 - val_acc: 1.0000\n",
            "\n",
            "Epoch 00020: val_acc did not improve from 1.00000\n",
            "Epoch 21/50\n",
            "23/23 [==============================] - 0s 738us/step - loss: 0.1118 - acc: 1.0000 - val_loss: 0.2388 - val_acc: 1.0000\n",
            "\n",
            "Epoch 00021: val_acc did not improve from 1.00000\n",
            "Epoch 22/50\n",
            "23/23 [==============================] - 0s 698us/step - loss: 0.0976 - acc: 1.0000 - val_loss: 0.2258 - val_acc: 1.0000\n",
            "\n",
            "Epoch 00022: val_acc did not improve from 1.00000\n",
            "Epoch 23/50\n",
            "23/23 [==============================] - 0s 729us/step - loss: 0.0859 - acc: 1.0000 - val_loss: 0.2133 - val_acc: 1.0000\n",
            "\n",
            "Epoch 00023: val_acc did not improve from 1.00000\n",
            "Epoch 24/50\n",
            "23/23 [==============================] - 0s 866us/step - loss: 0.0780 - acc: 1.0000 - val_loss: 0.2029 - val_acc: 1.0000\n",
            "\n",
            "Epoch 00024: val_acc did not improve from 1.00000\n",
            "Epoch 25/50\n",
            "23/23 [==============================] - 0s 1ms/step - loss: 0.0677 - acc: 1.0000 - val_loss: 0.1903 - val_acc: 1.0000\n",
            "\n",
            "Epoch 00025: val_acc did not improve from 1.00000\n",
            "Epoch 26/50\n",
            "23/23 [==============================] - 0s 797us/step - loss: 0.0588 - acc: 1.0000 - val_loss: 0.1773 - val_acc: 1.0000\n",
            "\n",
            "Epoch 00026: val_acc did not improve from 1.00000\n",
            "Epoch 27/50\n",
            "23/23 [==============================] - 0s 858us/step - loss: 0.0505 - acc: 1.0000 - val_loss: 0.1643 - val_acc: 1.0000\n",
            "\n",
            "Epoch 00027: val_acc did not improve from 1.00000\n",
            "Epoch 28/50\n",
            "23/23 [==============================] - 0s 634us/step - loss: 0.0462 - acc: 1.0000 - val_loss: 0.1531 - val_acc: 1.0000\n",
            "\n",
            "Epoch 00028: val_acc did not improve from 1.00000\n",
            "Epoch 29/50\n",
            "23/23 [==============================] - 0s 777us/step - loss: 0.0416 - acc: 1.0000 - val_loss: 0.1438 - val_acc: 1.0000\n",
            "\n",
            "Epoch 00029: val_acc did not improve from 1.00000\n",
            "Epoch 30/50\n",
            "23/23 [==============================] - 0s 702us/step - loss: 0.0364 - acc: 1.0000 - val_loss: 0.1361 - val_acc: 1.0000\n",
            "\n",
            "Epoch 00030: val_acc did not improve from 1.00000\n",
            "Epoch 31/50\n",
            "23/23 [==============================] - 0s 692us/step - loss: 0.0310 - acc: 1.0000 - val_loss: 0.1282 - val_acc: 1.0000\n",
            "\n",
            "Epoch 00031: val_acc did not improve from 1.00000\n",
            "Epoch 32/50\n",
            "23/23 [==============================] - 0s 742us/step - loss: 0.0277 - acc: 1.0000 - val_loss: 0.1188 - val_acc: 1.0000\n",
            "\n",
            "Epoch 00032: val_acc did not improve from 1.00000\n",
            "Epoch 33/50\n",
            "23/23 [==============================] - 0s 899us/step - loss: 0.0245 - acc: 1.0000 - val_loss: 0.1102 - val_acc: 1.0000\n",
            "\n",
            "Epoch 00033: val_acc did not improve from 1.00000\n",
            "Epoch 34/50\n",
            "23/23 [==============================] - 0s 775us/step - loss: 0.0226 - acc: 1.0000 - val_loss: 0.1025 - val_acc: 1.0000\n",
            "\n",
            "Epoch 00034: val_acc did not improve from 1.00000\n",
            "Epoch 35/50\n",
            "23/23 [==============================] - 0s 724us/step - loss: 0.0212 - acc: 1.0000 - val_loss: 0.0952 - val_acc: 1.0000\n",
            "\n",
            "Epoch 00035: val_acc did not improve from 1.00000\n",
            "Epoch 36/50\n",
            "23/23 [==============================] - 0s 808us/step - loss: 0.0187 - acc: 1.0000 - val_loss: 0.0889 - val_acc: 1.0000\n",
            "\n",
            "Epoch 00036: val_acc did not improve from 1.00000\n",
            "Epoch 37/50\n",
            "23/23 [==============================] - 0s 804us/step - loss: 0.0170 - acc: 1.0000 - val_loss: 0.0833 - val_acc: 1.0000\n",
            "\n",
            "Epoch 00037: val_acc did not improve from 1.00000\n",
            "Epoch 38/50\n",
            "23/23 [==============================] - 0s 827us/step - loss: 0.0161 - acc: 1.0000 - val_loss: 0.0778 - val_acc: 1.0000\n",
            "\n",
            "Epoch 00038: val_acc did not improve from 1.00000\n",
            "Epoch 39/50\n",
            "23/23 [==============================] - 0s 740us/step - loss: 0.0138 - acc: 1.0000 - val_loss: 0.0730 - val_acc: 1.0000\n",
            "\n",
            "Epoch 00039: val_acc did not improve from 1.00000\n",
            "Epoch 40/50\n",
            "23/23 [==============================] - 0s 786us/step - loss: 0.0129 - acc: 1.0000 - val_loss: 0.0685 - val_acc: 1.0000\n",
            "\n",
            "Epoch 00040: val_acc did not improve from 1.00000\n",
            "Epoch 41/50\n",
            "23/23 [==============================] - 0s 920us/step - loss: 0.0123 - acc: 1.0000 - val_loss: 0.0640 - val_acc: 1.0000\n",
            "\n",
            "Epoch 00041: val_acc did not improve from 1.00000\n",
            "Epoch 42/50\n",
            "23/23 [==============================] - 0s 741us/step - loss: 0.0109 - acc: 1.0000 - val_loss: 0.0595 - val_acc: 1.0000\n",
            "\n",
            "Epoch 00042: val_acc did not improve from 1.00000\n",
            "Epoch 43/50\n",
            "23/23 [==============================] - 0s 738us/step - loss: 0.0102 - acc: 1.0000 - val_loss: 0.0554 - val_acc: 1.0000\n",
            "\n",
            "Epoch 00043: val_acc did not improve from 1.00000\n",
            "Epoch 44/50\n",
            "23/23 [==============================] - 0s 746us/step - loss: 0.0094 - acc: 1.0000 - val_loss: 0.0520 - val_acc: 1.0000\n",
            "\n",
            "Epoch 00044: val_acc did not improve from 1.00000\n",
            "Epoch 45/50\n",
            "23/23 [==============================] - 0s 751us/step - loss: 0.0086 - acc: 1.0000 - val_loss: 0.0491 - val_acc: 1.0000\n",
            "\n",
            "Epoch 00045: val_acc did not improve from 1.00000\n",
            "Epoch 46/50\n",
            "23/23 [==============================] - 0s 858us/step - loss: 0.0081 - acc: 1.0000 - val_loss: 0.0463 - val_acc: 1.0000\n",
            "\n",
            "Epoch 00046: val_acc did not improve from 1.00000\n",
            "Epoch 47/50\n",
            "23/23 [==============================] - 0s 1ms/step - loss: 0.0078 - acc: 1.0000 - val_loss: 0.0436 - val_acc: 1.0000\n",
            "\n",
            "Epoch 00047: val_acc did not improve from 1.00000\n",
            "Epoch 48/50\n",
            "23/23 [==============================] - 0s 987us/step - loss: 0.0073 - acc: 1.0000 - val_loss: 0.0411 - val_acc: 1.0000\n",
            "\n",
            "Epoch 00048: val_acc did not improve from 1.00000\n",
            "Epoch 49/50\n",
            "23/23 [==============================] - 0s 1ms/step - loss: 0.0069 - acc: 1.0000 - val_loss: 0.0387 - val_acc: 1.0000\n",
            "\n",
            "Epoch 00049: val_acc did not improve from 1.00000\n",
            "Epoch 50/50\n",
            "23/23 [==============================] - 0s 856us/step - loss: 0.0064 - acc: 1.0000 - val_loss: 0.0365 - val_acc: 1.0000\n",
            "\n",
            "Epoch 00050: val_acc did not improve from 1.00000\n"
          ],
          "name": "stdout"
        }
      ]
    },
    {
      "cell_type": "code",
      "metadata": {
        "id": "msHuLz1ReUYa",
        "colab_type": "code",
        "outputId": "a619d2dc-86e5-4d64-f9ba-55876656eb34",
        "colab": {
          "base_uri": "https://localhost:8080/",
          "height": 72
        }
      },
      "source": [
        "#loading the model and checking accuracy on the test data\n",
        "\n",
        "model = load_model('best_model.pkl')\n",
        "\n",
        "from sklearn.metrics import accuracy_score\n",
        "test_preds = [np.argmax(i) for i in model.predict(X_test)]\n",
        "y_test_res = [np.argmax(i) for i in y_test]\n",
        "test_accuracy = 100*np.sum(np.array(test_preds)==y_test_res)/len(test_preds)\n",
        "print('Accuracy of the model on test set:', test_accuracy)"
      ],
      "execution_count": 0,
      "outputs": [
        {
          "output_type": "stream",
          "text": [
            "WARNING:tensorflow:Large dropout rate: 0.8 (>0.5). In TensorFlow 2.x, dropout() uses dropout rate instead of keep_prob. Please ensure that this is intended.\n",
            "Accuracy of the model on test set: 100.0\n"
          ],
          "name": "stdout"
        }
      ]
    },
    {
      "cell_type": "code",
      "metadata": {
        "id": "0hIJvpuQWuXc",
        "colab_type": "code",
        "outputId": "5447a90d-b32d-46ac-9d98-408186928c9b",
        "colab": {
          "base_uri": "https://localhost:8080/",
          "height": 573
        }
      },
      "source": [
        "# summarize history for accuracy\n",
        "plt.plot(history.history['acc'])\n",
        "plt.plot(history.history['val_acc'])\n",
        "plt.title('model accuracy')\n",
        "plt.ylabel('accuracy')\n",
        "plt.xlabel('epoch')\n",
        "plt.legend(['train', 'validation'], loc='upper left')\n",
        "plt.show()\n",
        "\n",
        "# summarize history for loss\n",
        "plt.plot(history.history['loss'])\n",
        "plt.plot(history.history['val_loss'])\n",
        "plt.title('model loss')\n",
        "plt.ylabel('loss')\n",
        "plt.xlabel('epoch')\n",
        "plt.legend(['train', 'validation'], loc='upper left')\n",
        "plt.show()"
      ],
      "execution_count": 0,
      "outputs": [
        {
          "output_type": "display_data",
          "data": {
            "image/png": "[encoded data removed]",
            "text/plain": [
              "<Figure size 432x288 with 1 Axes>"
            ]
          },
          "metadata": {
            "tags": []
          }
        },
        {
          "output_type": "display_data",
          "data": {
            "image/png": "[encoded data removed]",
            "text/plain": [
              "<Figure size 432x288 with 1 Axes>"
            ]
          },
          "metadata": {
            "tags": []
          }
        }
      ]
    }
  ]
}